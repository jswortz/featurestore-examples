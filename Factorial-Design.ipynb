{
 "cells": [
  {
   "cell_type": "markdown",
   "id": "9558f737-8f55-4296-9502-bf80335ef846",
   "metadata": {},
   "source": [
    "# This notebook creates an experimental design to test featurestore"
   ]
  },
  {
   "cell_type": "code",
   "execution_count": 21,
   "id": "ae78eedd-a486-4fd2-ab8c-a3e0fa1043d4",
   "metadata": {},
   "outputs": [
    {
     "name": "stdout",
     "output_type": "stream",
     "text": [
      "Nodes had more than two levels. Assigning the end point to the high level.\n",
      "FS_Size had more than two levels. Assigning the end point to the high level.\n",
      "N_Features had more than two levels. Assigning the end point to the high level.\n"
     ]
    },
    {
     "data": {
      "text/html": [
       "<div>\n",
       "<style scoped>\n",
       "    .dataframe tbody tr th:only-of-type {\n",
       "        vertical-align: middle;\n",
       "    }\n",
       "\n",
       "    .dataframe tbody tr th {\n",
       "        vertical-align: top;\n",
       "    }\n",
       "\n",
       "    .dataframe thead th {\n",
       "        text-align: right;\n",
       "    }\n",
       "</style>\n",
       "<table border=\"1\" class=\"dataframe\">\n",
       "  <thead>\n",
       "    <tr style=\"text-align: right;\">\n",
       "      <th></th>\n",
       "      <th>Nodes</th>\n",
       "      <th>Batch_Streaming_toggle</th>\n",
       "      <th>FS_Size</th>\n",
       "      <th>N_Features</th>\n",
       "    </tr>\n",
       "  </thead>\n",
       "  <tbody>\n",
       "    <tr>\n",
       "      <th>0</th>\n",
       "      <td>52.496968</td>\n",
       "      <td>-0.814183</td>\n",
       "      <td>23.126787</td>\n",
       "      <td>313.597242</td>\n",
       "    </tr>\n",
       "    <tr>\n",
       "      <th>1</th>\n",
       "      <td>55.428345</td>\n",
       "      <td>0.312334</td>\n",
       "      <td>38.660962</td>\n",
       "      <td>1781.823001</td>\n",
       "    </tr>\n",
       "    <tr>\n",
       "      <th>2</th>\n",
       "      <td>65.983361</td>\n",
       "      <td>-0.145512</td>\n",
       "      <td>52.576945</td>\n",
       "      <td>931.116225</td>\n",
       "    </tr>\n",
       "    <tr>\n",
       "      <th>3</th>\n",
       "      <td>43.291193</td>\n",
       "      <td>0.684984</td>\n",
       "      <td>8.353388</td>\n",
       "      <td>1138.734414</td>\n",
       "    </tr>\n",
       "  </tbody>\n",
       "</table>\n",
       "</div>"
      ],
      "text/plain": [
       "       Nodes  Batch_Streaming_toggle    FS_Size   N_Features\n",
       "0  52.496968               -0.814183  23.126787   313.597242\n",
       "1  55.428345                0.312334  38.660962  1781.823001\n",
       "2  65.983361               -0.145512  52.576945   931.116225\n",
       "3  43.291193                0.684984   8.353388  1138.734414"
      ]
     },
     "execution_count": 21,
     "metadata": {},
     "output_type": "execute_result"
    }
   ],
   "source": [
    "from doepy import read_write\n",
    "from doepy import build\n",
    "\n",
    "\n",
    "build.lhs(\n",
    "{'Nodes':[40,55,70],\n",
    "'Batch_Streaming_toggle':[-1, 1],\n",
    "'FS_Size':[8, 32, 56],\n",
    "'N_Features':[100, 1000, 2000]})"
   ]
  },
  {
   "cell_type": "code",
   "execution_count": null,
   "id": "dbdcd928-3d4f-47b8-a7af-2f3ff35b6863",
   "metadata": {},
   "outputs": [],
   "source": []
  }
 ],
 "metadata": {
  "environment": {
   "name": "tf2-gpu.2-6.m80",
   "type": "gcloud",
   "uri": "gcr.io/deeplearning-platform-release/tf2-gpu.2-6:m80"
  },
  "kernelspec": {
   "display_name": "Python 3",
   "language": "python",
   "name": "python3"
  },
  "language_info": {
   "codemirror_mode": {
    "name": "ipython",
    "version": 3
   },
   "file_extension": ".py",
   "mimetype": "text/x-python",
   "name": "python",
   "nbconvert_exporter": "python",
   "pygments_lexer": "ipython3",
   "version": "3.7.10"
  }
 },
 "nbformat": 4,
 "nbformat_minor": 5
}
