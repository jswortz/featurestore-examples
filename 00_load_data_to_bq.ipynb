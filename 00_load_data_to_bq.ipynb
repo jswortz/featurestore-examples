{
 "cells": [
  {
   "cell_type": "markdown",
   "id": "4aa41839-b195-4e26-bd97-3238b341ea80",
   "metadata": {},
   "source": [
    "# Download and load to BQ - IMBD\n",
    "\n",
    "This dataset from [Kaggle.com](https://www.kaggle.com/ashirwadsangwan/imdb-dataset) is a fairly rich IMBD rating dataset\n",
    "We will use this dataset to develop a pipeline that utilizes an advanced cross-two-tower network impleneted with Tensorflow 2.6\n",
    "Next notebooks will perform data prep and create the model"
   ]
  },
  {
   "cell_type": "code",
   "execution_count": 2,
   "id": "dfd2dd00-6bb2-4984-9c30-3aef2d4b4756",
   "metadata": {},
   "outputs": [],
   "source": [
    "from google.cloud import bigquery\n",
    "import os"
   ]
  },
  {
   "cell_type": "code",
   "execution_count": 3,
   "id": "c31b6010-cef9-4258-83e0-0ce93d960d01",
   "metadata": {},
   "outputs": [],
   "source": [
    "BUCKET = \"vertex-stuff_data_transfers\"\n",
    "BQ_DATASET = 'imdb'\n",
    "PROJECT_ID = 'vertex-stuff'"
   ]
  },
  {
   "cell_type": "markdown",
   "id": "91e49907-bb37-4325-a529-bde96ca9766c",
   "metadata": {},
   "source": [
    "## Connect to common bucket\n",
    "Folder structure\n",
    "\n",
    "```/\n",
    "  /data\n",
    "    /unzipped\n",
    "  /embeddings\n",
    "  /logs\n",
    "```\n",
    "\n",
    "#### Data Provenance:\n",
    "\n",
    "* https://datasets.imdbws.com/title.ratings.tsv.gz\n",
    "* https://datasets.imdbws.com/name.basics.tsv.gz\n",
    "* https://datasets.imdbws.com/title.principals.tsv.gz\n",
    "* https://datasets.imdbws.com/title.akas.tsv.gz\n",
    "* https://datasets.imdbws.com/title.basics.tsv.gz\n",
    "\n",
    "PUT THESE FILES IN `{BUCKET}/data`\n",
    "\n",
    "Missing values are denoted by `\\N` per the uploader's notes so we will remove for easier handling by BQ"
   ]
  },
  {
   "cell_type": "code",
   "execution_count": 4,
   "id": "b28bfc58-f0dd-4133-8997-a2086a6b7a23",
   "metadata": {},
   "outputs": [
    {
     "name": "stdout",
     "output_type": "stream",
     "text": [
      "--2021-10-29 14:11:22--  https://files.grouplens.org/datasets/movielens/ml-25m.zip\n",
      "Resolving files.grouplens.org (files.grouplens.org)... 128.101.65.152\n",
      "Connecting to files.grouplens.org (files.grouplens.org)|128.101.65.152|:443... connected.\n",
      "HTTP request sent, awaiting response... 200 OK\n",
      "Length: 261978986 (250M) [application/zip]\n",
      "Saving to: ‘ml-25m.zip.4’\n",
      "\n",
      "ml-25m.zip.4        100%[===================>] 249.84M  6.17MB/s    in 40s     \n",
      "\n",
      "utime(ml-25m.zip.4): No such file or directory\n",
      "2021-10-29 14:12:02 (6.32 MB/s) - ‘ml-25m.zip.4’ saved [261978986/261978986]\n",
      "\n",
      "CommandException: No URLs matched: ml-25m.zip\n"
     ]
    },
    {
     "name": "stderr",
     "output_type": "stream",
     "text": [
      "Copying from <STDIN>...\n",
      "/ [1 files][    0.0 B/    0.0 B]                                                \n",
      "Operation completed over 1 objects.                                              \n",
      "Copying from <STDIN>...\n",
      "/ [1 files][    0.0 B/    0.0 B]      0.0 B/s                                   \n",
      "Operation completed over 1 objects.                                              \n",
      "Copying from <STDIN>...\n",
      "/ [1 files][    0.0 B/    0.0 B]      0.0 B/s                                   \n",
      "Operation completed over 1 objects.                                              \n",
      "Copying from <STDIN>...\n",
      "/ [1 files][    0.0 B/    0.0 B]      0.0 B/s                                   \n",
      "Operation completed over 1 objects.                                              \n",
      "Copying from <STDIN>...\n",
      "/ [1 files][    0.0 B/    0.0 B]      0.0 B/s                                   \n",
      "Operation completed over 1 objects.                                              \n"
     ]
    }
   ],
   "source": [
    "# unzip the files\n",
    "\n",
    "# get the movielens 25 mil dataset\n",
    "!wget https://files.grouplens.org/datasets/movielens/ml-25m.zip\n",
    "# save to cloud storage\n",
    "!gsutil cp ml-25m.zip gs://$BUCKET/data\n",
    "\n",
    "\n",
    "tables = ['title.ratings', 'name.basics', 'title.principals', 'title.akas', 'title.basics']\n",
    "\n",
    "# Unzip each file\n",
    "\n",
    "def unzip(table):\n",
    "    command = f\"gsutil cat gs://{BUCKET}/data/{table}.tsv.gz | zcat | tr -d '\\\\\\\\N(?!$)' |  gsutil cp - gs://{BUCKET}/data/unzipped/{table}.tsv\"\n",
    "    os.system(command)\n",
    "    \n",
    "for t in tables:\n",
    "    unzip(t)"
   ]
  },
  {
   "cell_type": "markdown",
   "id": "6b375835-7fad-467b-bdc4-36d7be21418a",
   "metadata": {},
   "source": [
    "## Movielens data\n",
    "\n",
    "https://cloud.google.com/bigquery-ml/docs/bigqueryml-mf-explicit-tutorial"
   ]
  },
  {
   "cell_type": "code",
   "execution_count": 12,
   "id": "6b24cc36-18f0-40a2-a833-0c6425c10189",
   "metadata": {},
   "outputs": [
    {
     "name": "stdout",
     "output_type": "stream",
     "text": [
      "Archive:  ml-1m.zip\n",
      "   creating: ml-1m/\n",
      "  inflating: ml-1m/movies.dat        \n",
      "  inflating: ml-1m/ratings.dat       \n",
      "  inflating: ml-1m/README            \n",
      "  inflating: ml-1m/users.dat         \n",
      "BigQuery error in mk operation: Dataset 'vertex-stuff:movielens' already exists.\n"
     ]
    },
    {
     "name": "stderr",
     "output_type": "stream",
     "text": [
      "  % Total    % Received % Xferd  Average Speed   Time    Time     Time  Current\n",
      "                                 Dload  Upload   Total   Spent    Left  Speed\n",
      "100 5778k  100 5778k    0     0  18.2M      0 --:--:-- --:--:-- --:--:-- 18.2M\n",
      "Upload complete.\n",
      "Waiting on bqjob_r580039f3b9903eff_0000017ccc5d6aa5_1 ... (7s) Current status: DONE   \n"
     ]
    }
   ],
   "source": [
    "%%bash\n",
    "curl -O 'http://files.grouplens.org/datasets/movielens/ml-1m.zip'\n",
    "unzip ml-1m.zip\n",
    "bq mk --dataset movielens\n",
    "sed 's/::/,/g' ml-1m/ratings.dat > ratings.csv\n",
    "bq load --source_format=CSV movielens.movielens_1m ratings.csv \\\n",
    "  user_id:INT64,item_id:INT64,rating:FLOAT64,timestamp:TIMESTAMP"
   ]
  },
  {
   "cell_type": "code",
   "execution_count": 5,
   "id": "f0a028af-6e47-47b7-a365-556b1f779ec5",
   "metadata": {},
   "outputs": [
    {
     "name": "stderr",
     "output_type": "stream",
     "text": [
      "Upload complete.\n",
      "Waiting on bqjob_r6fff72891793a2b1_0000017ccc6637e1_1 ... (3s) Current status: DONE   \n"
     ]
    }
   ],
   "source": [
    "%%bash\n",
    "sed 's/::/@/g' ml-1m/movies.dat > movie_titles.csv\n",
    "bq load --source_format=CSV --field_delimiter=@ \\\n",
    " movielens.movie_titles movie_titles.csv \\\n",
    " movie_id:INT64,movie_title:STRING,genre:STRING"
   ]
  },
  {
   "cell_type": "markdown",
   "id": "91cd8282-d9fd-4893-a923-27f823bf4734",
   "metadata": {},
   "source": [
    "### Only run once below to create BQ Dataset"
   ]
  },
  {
   "cell_type": "code",
   "execution_count": 6,
   "id": "65462941-1431-43ef-967a-429a5f402476",
   "metadata": {},
   "outputs": [],
   "source": [
    "# Construct a BigQuery client object.\n",
    "client = bigquery.Client()\n",
    "\n",
    "# Construct a full Dataset object to send to the API.\n",
    "dataset = bigquery.Dataset(f'{PROJECT_ID}.{BQ_DATASET}')\n",
    "\n",
    "dataset = client.create_dataset(dataset, timeout=30)"
   ]
  },
  {
   "cell_type": "code",
   "execution_count": null,
   "id": "60571128-6c19-4eea-919b-d6b006963f74",
   "metadata": {},
   "outputs": [
    {
     "name": "stdout",
     "output_type": "stream",
     "text": [
      "Loaded 1197953 rows from gs://vertex-stuff_data_transfers/data/unzipped/title.ratings.tsv.\n"
     ]
    }
   ],
   "source": [
    "#Create landing Tables\n",
    "\n",
    "def load_table(table_id):\n",
    "    client = bigquery.Client()\n",
    "    uri = f'gs://{BUCKET}/data/unzipped/{table_id}.tsv'\n",
    "    job_config = bigquery.LoadJobConfig(\n",
    "        autodetect=True,\n",
    "        skip_leading_rows=1,\n",
    "        source_format=bigquery.SourceFormat.CSV,\n",
    "        field_delimiter='\\t',\n",
    "        max_bad_records = 10000,\n",
    "        #null_marker = '||'\n",
    "    )\n",
    "    table_id = table_id.replace('.', '_')\n",
    "    fqtn = f'{BQ_DATASET}.{table_id}'\n",
    "    load_job = client.load_table_from_uri(\n",
    "        uri, destination=fqtn, job_config=job_config\n",
    "    )\n",
    "    \n",
    "    load_job.result()\n",
    "    \n",
    "    destination_table = client.get_table(fqtn)\n",
    "    return(print(\"Loaded {} rows from {}.\".format(destination_table.num_rows, uri)))\n",
    "\n",
    "for t in tables:\n",
    "    load_table(t)"
   ]
  },
  {
   "cell_type": "markdown",
   "id": "3eaaefdb-7c48-490e-a07a-baf72e60f657",
   "metadata": {},
   "source": [
    "## Create the user and movie views"
   ]
  },
  {
   "cell_type": "code",
   "execution_count": null,
   "id": "50559853-a555-4b4d-aec6-711cf0a16a51",
   "metadata": {},
   "outputs": [],
   "source": [
    "%%bigquery\n",
    "\n",
    "CREATE OR REPLACE TABLE `matching-engine-blog.movielens.user_view` AS\n",
    "SELECT \n",
    "\tCAST(user_id as STRING) as user_id,\n",
    "    reviews.item_id as movie_id,\n",
    "    rating,\n",
    "    timestamp, \n",
    "    EXTRACT(WEEK FROM timestamp) as week_num,\n",
    "    EXTRACT(HOUR FROM timestamp) as hour,\n",
    "FROM \n",
    "    `matching-engine-blog.movielens.movie_titles` mt,\n",
    "    `matching-engine-blog.movielens.movielens_1m` reviews,\n",
    "    `matching-engine-blog.imdb.title_basics` tb \n",
    "WHERE \n",
    "    mt.movie_id = reviews.item_id AND \n",
    "    UPPER(CONCAT(tb.originalTitle, \" (\", tb.startYear, \")\")) = UPPER(mt.movie_title)\n",
    ";"
   ]
  },
  {
   "cell_type": "code",
   "execution_count": null,
   "id": "33bd0c85-a335-4a33-9df4-88230cc98ffa",
   "metadata": {},
   "outputs": [],
   "source": [
    "%%bigquery\n",
    "CREATE OR REPLACE TABLE `matching-engine-blog.movielens.movie_view` AS\n",
    "WITH \n",
    "    actors AS (\n",
    "        SELECT \n",
    "        tp.tconst,\n",
    "        STRING_AGG(nb.nconst, ' ') actors,\n",
    "        STRING_AGG(REPLACE(nb.primaryProfession, \",\", \" \"), ' ') as profession\n",
    "        FROM \n",
    "        `matching-engine-blog.imdb.title_principals` tp,\n",
    "        `matching-engine-blog.imdb.name_basics` nb\n",
    "        WHERE\n",
    "        tp.nconst = nb.nconst AND \n",
    "        tp.category = \"actor\"\n",
    "        group by tp.tconst\n",
    "    ), \n",
    "    directors AS (\n",
    "        SELECT \n",
    "        tp.tconst,\n",
    "        STRING_AGG(nb.nconst, ' ') actors,\n",
    "        STRING_AGG(REPLACE(nb.primaryProfession, \",\", \" \"), ' ') as profession\n",
    "        FROM \n",
    "        `matching-engine-blog.imdb.title_principals` tp,\n",
    "        `matching-engine-blog.imdb.name_basics` nb\n",
    "        WHERE\n",
    "        tp.nconst = nb.nconst AND \n",
    "        tp.category = \"director\"\n",
    "        group by tp.tconst\n",
    "  )\n",
    "SELECT \n",
    "    cast(mt.movie_id as STRING) as movie_id,\n",
    "    tb.originalTitle as title,\n",
    "    tb.isAdult as is_adult,\n",
    "    #tb.startYear as start_year,\n",
    "    #tb.runtimeMinutes,\n",
    "    #REPLACE(tb.genres, ',', ' ') as genres,\n",
    "    tr.averageRating as average_rating,\n",
    "    tr.numVotes as num_votes,\n",
    "    directors.actors as director,\n",
    "    directors.profession as d_profession,\n",
    "    actors.actors,\n",
    "    actors.profession as actor_profession\n",
    "\n",
    "FROM\n",
    "    `matching-engine-blog.imdb.title_basics` tb ,\n",
    "    `matching-engine-blog.imdb.title_ratings` tr ,\n",
    "    `matching-engine-blog.movielens.movie_titles` mt,\n",
    "    directors,\n",
    "    actors\n",
    "WHERE \n",
    "    directors.tconst = tb.tconst AND\n",
    "    actors.tconst = tb.tconst AND\n",
    "    tb.tconst = tr.tconst AND \n",
    "    UPPER(CONCAT(tb.originalTitle, \" (\", tb.startYear, \")\")) = UPPER(mt.movie_title)"
   ]
  },
  {
   "cell_type": "code",
   "execution_count": null,
   "id": "68bc5a56-e579-4746-a706-624eda340513",
   "metadata": {},
   "outputs": [],
   "source": []
  }
 ],
 "metadata": {
  "environment": {
   "kernel": "conda-root-py",
   "name": "tf2-gpu.2-6.m82",
   "type": "gcloud",
   "uri": "gcr.io/deeplearning-platform-release/tf2-gpu.2-6:m82"
  },
  "kernelspec": {
   "display_name": "Python [conda env:root] *",
   "language": "python",
   "name": "conda-root-py"
  },
  "language_info": {
   "codemirror_mode": {
    "name": "ipython",
    "version": 3
   },
   "file_extension": ".py",
   "mimetype": "text/x-python",
   "name": "python",
   "nbconvert_exporter": "python",
   "pygments_lexer": "ipython3",
   "version": "3.7.10"
  }
 },
 "nbformat": 4,
 "nbformat_minor": 5
}
